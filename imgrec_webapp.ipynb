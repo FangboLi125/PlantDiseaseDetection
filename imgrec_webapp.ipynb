{
 "cells": [
  {
   "cell_type": "markdown",
   "metadata": {},
   "source": [
    "pip install keras"
   ]
  },
  {
   "cell_type": "markdown",
   "metadata": {},
   "source": [
    "pip install tensorflow"
   ]
  },
  {
   "cell_type": "markdown",
   "metadata": {},
   "source": [
    "pip install flask"
   ]
  },
  {
   "cell_type": "markdown",
   "metadata": {},
   "source": [
    "pip install sklearn"
   ]
  },
  {
   "cell_type": "code",
   "execution_count": null,
   "metadata": {},
   "outputs": [],
   "source": [
    "import os\n",
    "from flask import Flask, request, redirect, url_for, render_template\n",
    "from werkzeug.utils import secure_filename\n",
    "app = Flask(__name__)\n",
    "from keras.models import load_model\n",
    "from keras import backend as K\n",
    "from tensorflow.compat.v1.keras import backend as K\n",
    "from skimage.transform import resize\n",
    "import matplotlib.pyplot as plt\n",
    "import tensorflow as tf\n",
    "import numpy as np"
   ]
  },
  {
   "cell_type": "code",
   "execution_count": null,
   "metadata": {
    "scrolled": false
   },
   "outputs": [],
   "source": [
    "print(\"Loading model\")\n",
    "# set the session\n",
    "global sess\n",
    "sess = tf.compat.v1.Session()\n",
    "K.set_session(sess)\n",
    "# to get graph\n",
    "global graph\n",
    "graph = tf.compat.v1.get_default_graph()\n",
    "# GET and POST for the web\n",
    "@app.route('/', methods=['GET','POST'])\n",
    "\n",
    "def main_page():\n",
    "    if request.method == 'POST':\n",
    "        file = request.files['file']\n",
    "        filename = secure_filename(file.filename)\n",
    "        file.save(os.path.join('uploads', filename))\n",
    "        return redirect(url_for('prediction', filename=filename))\n",
    "    return render_template('service.html')\n",
    "@app.route('/prediction/<filename>')\n",
    "def prediction(filename):\n",
    "    #Step 1\n",
    "    my_image = plt.imread(os.path.join('uploads', filename))\n",
    "    #Step 2\n",
    "    my_image_re = resize(my_image, (224,224,3))\n",
    "    \n",
    "    #Step 3\n",
    "    with graph.as_default():\n",
    "        K.set_session(sess)\n",
    "        model = load_model('leaf-cnn.h5')\n",
    "        probabilities = model.predict(np.array( [my_image_re,] ))[0,:]\n",
    "        print(probabilities)\n",
    "#Step 4\n",
    "    number_to_class = ['Apple___Apple_scab', 'Apple___Black_rot', 'Apple___Cedar_apple_rust', 'Apple___healthy']\n",
    "      \n",
    "    index = np.argsort(probabilities)\n",
    "       \n",
    "    predictions = {\n",
    "       \"class1\":number_to_class[index[3]],\n",
    "        \"class2\":number_to_class[index[2]],\n",
    "        \"prob1\":probabilities[index[3]],\n",
    "        \"prob2\":probabilities[index[2]],\n",
    "      }\n",
    "#Step 5\n",
    "    return render_template('predict.html', predictions=predictions)\n",
    "app.debug = False\n",
    "app.run(host='localhost')"
   ]
  }
 ],
 "metadata": {
  "kernelspec": {
   "display_name": "Python 3",
   "language": "python",
   "name": "python3"
  },
  "language_info": {
   "codemirror_mode": {
    "name": "ipython",
    "version": 3
   },
   "file_extension": ".py",
   "mimetype": "text/x-python",
   "name": "python",
   "nbconvert_exporter": "python",
   "pygments_lexer": "ipython3",
   "version": "3.8.3"
  }
 },
 "nbformat": 4,
 "nbformat_minor": 4
}
